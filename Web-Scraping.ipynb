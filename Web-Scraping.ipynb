{
 "cells": [
  {
   "cell_type": "markdown",
   "id": "2fd67d1d",
   "metadata": {},
   "source": [
    "**Источники:**\n",
    "1. [Web Scraping with Python. SECOND EDITION. Collecting More Data from the Modern Web. Ryan Mitchell](https://cloudflare-ipfs.com/ipfs/bafykbzacec2ixknrajgkxe75mtrpk2lwwkd7uwllnchy3czbqz7azosf6voxi?filename=Mitchell%2C%20Ryan%20E%20-%20Web%20scraping%20with%20Python_%20collecting%20more%20data%20from%20the%20modern%20web-O%27Reilly%20Media%20%282018%29.pdf)\n",
    "2. [Practical Web Scraping for Data Science. Best Practices and Examples with Python. Seppe vanden Broucke, Bart Baesens](https://cloudflare-ipfs.com/ipfs/bafykbzacedytog6s2fhd5wwta2466h4y3ypa4t3fssnspisi5kchuvmxfvewy?filename=Seppe%20vanden%20Broucke%2C%20Bart%20Baesens%20-%20Practical%20Web%20Scraping%20for%20Data%20Science_%20Best%20Practices%20and%20Examples%20with%20Python-Apress%20%282018%29.pdf)"
   ]
  },
  {
   "cell_type": "code",
   "execution_count": null,
   "id": "8a11de4e",
   "metadata": {},
   "outputs": [],
   "source": []
  }
 ],
 "metadata": {
  "kernelspec": {
   "display_name": "Python 3 (ipykernel)",
   "language": "python",
   "name": "python3"
  },
  "language_info": {
   "codemirror_mode": {
    "name": "ipython",
    "version": 3
   },
   "file_extension": ".py",
   "mimetype": "text/x-python",
   "name": "python",
   "nbconvert_exporter": "python",
   "pygments_lexer": "ipython3",
   "version": "3.10.8"
  },
  "toc": {
   "base_numbering": 1,
   "nav_menu": {},
   "number_sections": true,
   "sideBar": true,
   "skip_h1_title": false,
   "title_cell": "Table of Contents",
   "title_sidebar": "Contents",
   "toc_cell": false,
   "toc_position": {},
   "toc_section_display": true,
   "toc_window_display": false
  }
 },
 "nbformat": 4,
 "nbformat_minor": 5
}
