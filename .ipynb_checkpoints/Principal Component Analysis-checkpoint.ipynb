{
 "cells": [
  {
   "cell_type": "markdown",
   "id": "df58bfe3",
   "metadata": {},
   "source": [
    "# PCA"
   ]
  },
  {
   "cell_type": "markdown",
   "id": "1a5e9923",
   "metadata": {},
   "source": [
    "**Источники:**\n",
    "1. [wiki: PCA](https://en.wikipedia.org/wiki/Principal_component_analysis)\n",
    "2. [scikit-learn: 2.5. Decomposing signals in components (matrix factorization problems)](https://scikit-learn.org/stable/modules/decomposition.html#decompositions)"
   ]
  },
  {
   "cell_type": "markdown",
   "id": "822b3e92",
   "metadata": {},
   "source": [
    "**Алгоритм PCA**\n",
    "1. Стандартизируем Х\n",
    "2. Строим ковариационную матрицу\n",
    "3. Разложим ковариационную матрицу на ее собственные векторы и найдем ее собственные значения\n",
    "4. Выбираем к собственных векторов, которые соответсвтуюк к самых больших собственных чисел, где к - размерность нового подпространства признаков\n",
    "5. Создаем проекционную матрицу W из \"верхних\" к сосбтвенных веторов\n",
    "6. Преобразовываем исхдный входной набор данных Х, использую проекционную матрицу для получения нового к-мерного подпространства признаков"
   ]
  },
  {
   "cell_type": "markdown",
   "id": "5c950e41",
   "metadata": {},
   "source": [
    "Здесь используется датасет сортов вин"
   ]
  },
  {
   "cell_type": "code",
   "execution_count": 5,
   "id": "17f8ae7e",
   "metadata": {},
   "outputs": [],
   "source": [
    "import pandas as pd\n",
    "url = 'https://archive.ics.uci.edu/ml/machine-learning-databases/wine/wine.data'\n",
    "df_wine = pd.read_csv(url , header=None ) "
   ]
  },
  {
   "cell_type": "code",
   "execution_count": 6,
   "id": "6c2b2981",
   "metadata": {},
   "outputs": [
    {
     "data": {
      "text/html": [
       "<div>\n",
       "<style scoped>\n",
       "    .dataframe tbody tr th:only-of-type {\n",
       "        vertical-align: middle;\n",
       "    }\n",
       "\n",
       "    .dataframe tbody tr th {\n",
       "        vertical-align: top;\n",
       "    }\n",
       "\n",
       "    .dataframe thead th {\n",
       "        text-align: right;\n",
       "    }\n",
       "</style>\n",
       "<table border=\"1\" class=\"dataframe\">\n",
       "  <thead>\n",
       "    <tr style=\"text-align: right;\">\n",
       "      <th></th>\n",
       "      <th>0</th>\n",
       "      <th>1</th>\n",
       "      <th>2</th>\n",
       "      <th>3</th>\n",
       "      <th>4</th>\n",
       "      <th>5</th>\n",
       "      <th>6</th>\n",
       "      <th>7</th>\n",
       "      <th>8</th>\n",
       "      <th>9</th>\n",
       "      <th>10</th>\n",
       "      <th>11</th>\n",
       "      <th>12</th>\n",
       "      <th>13</th>\n",
       "    </tr>\n",
       "  </thead>\n",
       "  <tbody>\n",
       "    <tr>\n",
       "      <th>0</th>\n",
       "      <td>1</td>\n",
       "      <td>14.23</td>\n",
       "      <td>1.71</td>\n",
       "      <td>2.43</td>\n",
       "      <td>15.6</td>\n",
       "      <td>127</td>\n",
       "      <td>2.80</td>\n",
       "      <td>3.06</td>\n",
       "      <td>0.28</td>\n",
       "      <td>2.29</td>\n",
       "      <td>5.64</td>\n",
       "      <td>1.04</td>\n",
       "      <td>3.92</td>\n",
       "      <td>1065</td>\n",
       "    </tr>\n",
       "    <tr>\n",
       "      <th>1</th>\n",
       "      <td>1</td>\n",
       "      <td>13.20</td>\n",
       "      <td>1.78</td>\n",
       "      <td>2.14</td>\n",
       "      <td>11.2</td>\n",
       "      <td>100</td>\n",
       "      <td>2.65</td>\n",
       "      <td>2.76</td>\n",
       "      <td>0.26</td>\n",
       "      <td>1.28</td>\n",
       "      <td>4.38</td>\n",
       "      <td>1.05</td>\n",
       "      <td>3.40</td>\n",
       "      <td>1050</td>\n",
       "    </tr>\n",
       "    <tr>\n",
       "      <th>2</th>\n",
       "      <td>1</td>\n",
       "      <td>13.16</td>\n",
       "      <td>2.36</td>\n",
       "      <td>2.67</td>\n",
       "      <td>18.6</td>\n",
       "      <td>101</td>\n",
       "      <td>2.80</td>\n",
       "      <td>3.24</td>\n",
       "      <td>0.30</td>\n",
       "      <td>2.81</td>\n",
       "      <td>5.68</td>\n",
       "      <td>1.03</td>\n",
       "      <td>3.17</td>\n",
       "      <td>1185</td>\n",
       "    </tr>\n",
       "    <tr>\n",
       "      <th>3</th>\n",
       "      <td>1</td>\n",
       "      <td>14.37</td>\n",
       "      <td>1.95</td>\n",
       "      <td>2.50</td>\n",
       "      <td>16.8</td>\n",
       "      <td>113</td>\n",
       "      <td>3.85</td>\n",
       "      <td>3.49</td>\n",
       "      <td>0.24</td>\n",
       "      <td>2.18</td>\n",
       "      <td>7.80</td>\n",
       "      <td>0.86</td>\n",
       "      <td>3.45</td>\n",
       "      <td>1480</td>\n",
       "    </tr>\n",
       "    <tr>\n",
       "      <th>4</th>\n",
       "      <td>1</td>\n",
       "      <td>13.24</td>\n",
       "      <td>2.59</td>\n",
       "      <td>2.87</td>\n",
       "      <td>21.0</td>\n",
       "      <td>118</td>\n",
       "      <td>2.80</td>\n",
       "      <td>2.69</td>\n",
       "      <td>0.39</td>\n",
       "      <td>1.82</td>\n",
       "      <td>4.32</td>\n",
       "      <td>1.04</td>\n",
       "      <td>2.93</td>\n",
       "      <td>735</td>\n",
       "    </tr>\n",
       "    <tr>\n",
       "      <th>...</th>\n",
       "      <td>...</td>\n",
       "      <td>...</td>\n",
       "      <td>...</td>\n",
       "      <td>...</td>\n",
       "      <td>...</td>\n",
       "      <td>...</td>\n",
       "      <td>...</td>\n",
       "      <td>...</td>\n",
       "      <td>...</td>\n",
       "      <td>...</td>\n",
       "      <td>...</td>\n",
       "      <td>...</td>\n",
       "      <td>...</td>\n",
       "      <td>...</td>\n",
       "    </tr>\n",
       "    <tr>\n",
       "      <th>173</th>\n",
       "      <td>3</td>\n",
       "      <td>13.71</td>\n",
       "      <td>5.65</td>\n",
       "      <td>2.45</td>\n",
       "      <td>20.5</td>\n",
       "      <td>95</td>\n",
       "      <td>1.68</td>\n",
       "      <td>0.61</td>\n",
       "      <td>0.52</td>\n",
       "      <td>1.06</td>\n",
       "      <td>7.70</td>\n",
       "      <td>0.64</td>\n",
       "      <td>1.74</td>\n",
       "      <td>740</td>\n",
       "    </tr>\n",
       "    <tr>\n",
       "      <th>174</th>\n",
       "      <td>3</td>\n",
       "      <td>13.40</td>\n",
       "      <td>3.91</td>\n",
       "      <td>2.48</td>\n",
       "      <td>23.0</td>\n",
       "      <td>102</td>\n",
       "      <td>1.80</td>\n",
       "      <td>0.75</td>\n",
       "      <td>0.43</td>\n",
       "      <td>1.41</td>\n",
       "      <td>7.30</td>\n",
       "      <td>0.70</td>\n",
       "      <td>1.56</td>\n",
       "      <td>750</td>\n",
       "    </tr>\n",
       "    <tr>\n",
       "      <th>175</th>\n",
       "      <td>3</td>\n",
       "      <td>13.27</td>\n",
       "      <td>4.28</td>\n",
       "      <td>2.26</td>\n",
       "      <td>20.0</td>\n",
       "      <td>120</td>\n",
       "      <td>1.59</td>\n",
       "      <td>0.69</td>\n",
       "      <td>0.43</td>\n",
       "      <td>1.35</td>\n",
       "      <td>10.20</td>\n",
       "      <td>0.59</td>\n",
       "      <td>1.56</td>\n",
       "      <td>835</td>\n",
       "    </tr>\n",
       "    <tr>\n",
       "      <th>176</th>\n",
       "      <td>3</td>\n",
       "      <td>13.17</td>\n",
       "      <td>2.59</td>\n",
       "      <td>2.37</td>\n",
       "      <td>20.0</td>\n",
       "      <td>120</td>\n",
       "      <td>1.65</td>\n",
       "      <td>0.68</td>\n",
       "      <td>0.53</td>\n",
       "      <td>1.46</td>\n",
       "      <td>9.30</td>\n",
       "      <td>0.60</td>\n",
       "      <td>1.62</td>\n",
       "      <td>840</td>\n",
       "    </tr>\n",
       "    <tr>\n",
       "      <th>177</th>\n",
       "      <td>3</td>\n",
       "      <td>14.13</td>\n",
       "      <td>4.10</td>\n",
       "      <td>2.74</td>\n",
       "      <td>24.5</td>\n",
       "      <td>96</td>\n",
       "      <td>2.05</td>\n",
       "      <td>0.76</td>\n",
       "      <td>0.56</td>\n",
       "      <td>1.35</td>\n",
       "      <td>9.20</td>\n",
       "      <td>0.61</td>\n",
       "      <td>1.60</td>\n",
       "      <td>560</td>\n",
       "    </tr>\n",
       "  </tbody>\n",
       "</table>\n",
       "<p>178 rows × 14 columns</p>\n",
       "</div>"
      ],
      "text/plain": [
       "     0      1     2     3     4    5     6     7     8     9      10    11  \\\n",
       "0     1  14.23  1.71  2.43  15.6  127  2.80  3.06  0.28  2.29   5.64  1.04   \n",
       "1     1  13.20  1.78  2.14  11.2  100  2.65  2.76  0.26  1.28   4.38  1.05   \n",
       "2     1  13.16  2.36  2.67  18.6  101  2.80  3.24  0.30  2.81   5.68  1.03   \n",
       "3     1  14.37  1.95  2.50  16.8  113  3.85  3.49  0.24  2.18   7.80  0.86   \n",
       "4     1  13.24  2.59  2.87  21.0  118  2.80  2.69  0.39  1.82   4.32  1.04   \n",
       "..   ..    ...   ...   ...   ...  ...   ...   ...   ...   ...    ...   ...   \n",
       "173   3  13.71  5.65  2.45  20.5   95  1.68  0.61  0.52  1.06   7.70  0.64   \n",
       "174   3  13.40  3.91  2.48  23.0  102  1.80  0.75  0.43  1.41   7.30  0.70   \n",
       "175   3  13.27  4.28  2.26  20.0  120  1.59  0.69  0.43  1.35  10.20  0.59   \n",
       "176   3  13.17  2.59  2.37  20.0  120  1.65  0.68  0.53  1.46   9.30  0.60   \n",
       "177   3  14.13  4.10  2.74  24.5   96  2.05  0.76  0.56  1.35   9.20  0.61   \n",
       "\n",
       "       12    13  \n",
       "0    3.92  1065  \n",
       "1    3.40  1050  \n",
       "2    3.17  1185  \n",
       "3    3.45  1480  \n",
       "4    2.93   735  \n",
       "..    ...   ...  \n",
       "173  1.74   740  \n",
       "174  1.56   750  \n",
       "175  1.56   835  \n",
       "176  1.62   840  \n",
       "177  1.60   560  \n",
       "\n",
       "[178 rows x 14 columns]"
      ]
     },
     "execution_count": 6,
     "metadata": {},
     "output_type": "execute_result"
    }
   ],
   "source": [
    "df_wine"
   ]
  },
  {
   "cell_type": "markdown",
   "id": "2c705566",
   "metadata": {},
   "source": [
    "# Стандартизируем Х"
   ]
  },
  {
   "cell_type": "markdown",
   "id": "9b1a0ca1",
   "metadata": {},
   "source": [
    "Мы разбиваем датасет на тренировачный и валидационный в пропорции 70/30. "
   ]
  },
  {
   "cell_type": "code",
   "execution_count": 11,
   "id": "5e351597",
   "metadata": {},
   "outputs": [],
   "source": [
    "from sklearn.model_selection import train_test_split # cross_validation\n",
    "from sklearn.preprocessing import StandardScaler\n",
    "X, у= df_wine.iloc[:,1:].values,df_wine.iloc[:, 0].values\n",
    "              \n",
    "X_train , X_test , y_train ,y_test = \\\n",
    "train_test_split(X, у,\n",
    "                 test_size=0.3, random_state= 0)\n",
    "sc = StandardScaler()\n",
    "X_train_std = sc.fit_transform(X_train)\n",
    "X_test_std = sc.transform(X_test ) "
   ]
  },
  {
   "cell_type": "markdown",
   "id": "4a58d75c",
   "metadata": {},
   "source": [
    "# Строим ковариационную матрицу"
   ]
  },
  {
   "cell_type": "code",
   "execution_count": 14,
   "id": "46a9655c",
   "metadata": {},
   "outputs": [
    {
     "data": {
      "text/plain": [
       "array([[ 0.91083058, -0.46259897, -0.01142613, ...,  0.65706596,\n",
       "         1.94354495,  0.93700997],\n",
       "       [-0.95609928, -0.96608672, -1.53725357, ..., -0.40859506,\n",
       "         0.58118003, -1.41336684],\n",
       "       [ 0.35952243,  1.67501572, -0.37471838, ..., -1.55950896,\n",
       "        -1.44846566,  0.28683658],\n",
       "       ...,\n",
       "       [-0.70550467, -0.68342693, -0.62902295, ...,  0.44393375,\n",
       "         0.49776993, -1.30608823],\n",
       "       [ 1.14889546, -0.6215951 , -0.88332752, ..., -0.19546286,\n",
       "         1.0121322 ,  0.77446662],\n",
       "       [ 1.47466845,  0.11155374,  0.42452457, ..., -1.43162964,\n",
       "        -1.23994042, -0.28206514]])"
      ]
     },
     "execution_count": 14,
     "metadata": {},
     "output_type": "execute_result"
    }
   ],
   "source": [
    "X_train_std"
   ]
  },
  {
   "cell_type": "code",
   "execution_count": 15,
   "id": "f28b8c19",
   "metadata": {},
   "outputs": [
    {
     "data": {
      "text/plain": [
       "array([[ 1.00813008,  0.08797701,  0.23066952, -0.32868099,  0.2141631 ,\n",
       "         0.35576761,  0.2991246 , -0.16913744,  0.09649074,  0.56962271,\n",
       "        -0.04781543,  0.07403492,  0.63277882],\n",
       "       [ 0.08797701,  1.00813008,  0.2016416 ,  0.30658143, -0.06030917,\n",
       "        -0.30124242, -0.41221162,  0.36616593, -0.19190146,  0.30749173,\n",
       "        -0.54992807, -0.39352761, -0.20253906],\n",
       "       [ 0.23066952,  0.2016416 ,  1.00813008,  0.44971971,  0.18321413,\n",
       "         0.12235533,  0.06130256,  0.18655693, -0.02607834,  0.24555355,\n",
       "        -0.10928021, -0.01820002,  0.15948032],\n",
       "       [-0.32868099,  0.30658143,  0.44971971,  1.00813008, -0.08930998,\n",
       "        -0.37018442, -0.41804463,  0.40212108, -0.25765667, -0.03090225,\n",
       "        -0.25313262, -0.28934372, -0.48504311],\n",
       "       [ 0.2141631 , -0.06030917,  0.18321413, -0.08930998,  1.00813008,\n",
       "         0.16513295,  0.14458703, -0.30763563,  0.27228619,  0.1260674 ,\n",
       "         0.05792599,  0.01596134,  0.31461066],\n",
       "       [ 0.35576761, -0.30124242,  0.12235533, -0.37018442,  0.16513295,\n",
       "         1.00813008,  0.88119961, -0.45396901,  0.6196806 , -0.06935051,\n",
       "         0.45718802,  0.72214462,  0.56326772],\n",
       "       [ 0.2991246 , -0.41221162,  0.06130256, -0.41804463,  0.14458703,\n",
       "         0.88119961,  1.00813008, -0.58329952,  0.66598997, -0.19183675,\n",
       "         0.58331869,  0.80205789,  0.55759374],\n",
       "       [-0.16913744,  0.36616593,  0.18655693,  0.40212108, -0.30763563,\n",
       "        -0.45396901, -0.58329952,  1.00813008, -0.35394023,  0.15451294,\n",
       "        -0.3178224 , -0.49379349, -0.36456587],\n",
       "       [ 0.09649074, -0.19190146, -0.02607834, -0.25765667,  0.27228619,\n",
       "         0.6196806 ,  0.66598997, -0.35394023,  1.00813008, -0.07018068,\n",
       "         0.32282167,  0.51036557,  0.35552117],\n",
       "       [ 0.56962271,  0.30749173,  0.24555355, -0.03090225,  0.1260674 ,\n",
       "        -0.06935051, -0.19183675,  0.15451294, -0.07018068,  1.00813008,\n",
       "        -0.52395358, -0.45165752,  0.31605457],\n",
       "       [-0.04781543, -0.54992807, -0.10928021, -0.25313262,  0.05792599,\n",
       "         0.45718802,  0.58331869, -0.3178224 ,  0.32282167, -0.52395358,\n",
       "         1.00813008,  0.60022569,  0.2452794 ],\n",
       "       [ 0.07403492, -0.39352761, -0.01820002, -0.28934372,  0.01596134,\n",
       "         0.72214462,  0.80205789, -0.49379349,  0.51036557, -0.45165752,\n",
       "         0.60022569,  1.00813008,  0.32437157],\n",
       "       [ 0.63277882, -0.20253906,  0.15948032, -0.48504311,  0.31461066,\n",
       "         0.56326772,  0.55759374, -0.36456587,  0.35552117,  0.31605457,\n",
       "         0.2452794 ,  0.32437157,  1.00813008]])"
      ]
     },
     "execution_count": 15,
     "metadata": {},
     "output_type": "execute_result"
    }
   ],
   "source": [
    "import numpy as np\n",
    "cov_mat = np.cov(X_train_std.T)\n",
    "cov_mat"
   ]
  },
  {
   "cell_type": "code",
   "execution_count": 13,
   "id": "545167a5",
   "metadata": {},
   "outputs": [
    {
     "name": "stdout",
     "output_type": "stream",
     "text": [
      "\n",
      "Собcтвенные значения \n",
      "[4.8923083  2.46635032 1.42809973 1.01233462 0.84906459 0.60181514\n",
      " 0.52251546 0.08414846 0.33051429 0.29595018 0.16831254 0.21432212\n",
      " 0.2399553 ]\n"
     ]
    }
   ],
   "source": [
    "eigen_vals, eigen_vecs = np.linalg.eig(cov_mat)\n",
    "print( '\\nСобcтвенные значения \\n%s'% eigen_vals)"
   ]
  },
  {
   "cell_type": "code",
   "execution_count": 25,
   "id": "9ce1df1d",
   "metadata": {},
   "outputs": [],
   "source": [
    "tot = sum(eigen_vals)\n",
    "var_exp = [(i/tot) for i in sorted(eigen_vals, reverse=True )]\n",
    "cum_var_exp = np.cumsum(var_exp)"
   ]
  },
  {
   "cell_type": "code",
   "execution_count": 26,
   "id": "ba205f40",
   "metadata": {},
   "outputs": [
    {
     "data": {
      "text/plain": [
       "[0.37329647723490694,\n",
       " 0.18818926106599554,\n",
       " 0.108967907247578,\n",
       " 0.0772438947712487,\n",
       " 0.06478594601826176,\n",
       " 0.04592013811478141,\n",
       " 0.03986935597634703,\n",
       " 0.025219142607261588,\n",
       " 0.022581806817679684,\n",
       " 0.0183092447195269,\n",
       " 0.016353362655051464,\n",
       " 0.01284270583749276,\n",
       " 0.006420756933868297]"
      ]
     },
     "execution_count": 26,
     "metadata": {},
     "output_type": "execute_result"
    }
   ],
   "source": [
    "var_exp"
   ]
  },
  {
   "cell_type": "code",
   "execution_count": 18,
   "id": "ef5316c2",
   "metadata": {},
   "outputs": [
    {
     "data": {
      "text/plain": [
       "array([0.37329648, 0.56148574, 0.67045365, 0.74769754, 0.81248349,\n",
       "       0.85840362, 0.89827298, 0.92349212, 0.94607393, 0.96438317,\n",
       "       0.98073654, 0.99357924, 1.        ])"
      ]
     },
     "execution_count": 18,
     "metadata": {},
     "output_type": "execute_result"
    }
   ],
   "source": [
    "cum_var_exp"
   ]
  },
  {
   "cell_type": "code",
   "execution_count": 24,
   "id": "a2c69351",
   "metadata": {},
   "outputs": [
    {
     "data": {
      "image/png": "[encoded data removed]",
      "text/plain": [
       "<Figure size 640x480 with 1 Axes>"
      ]
     },
     "metadata": {},
     "output_type": "display_data"
    }
   ],
   "source": [
    "import matplotlib.pyplot as plt\n",
    "\n",
    "plt.bar(range(1, 14), var_exp, alpha=0.5, align= 'center',\n",
    "        label='индивидуальная объясненная дисперсия')\n",
    "plt.step(range(1, 14), cum_var_exp,where= 'mid',\n",
    "         label='кумулятивная объясненная дисперсия')\n",
    "plt.ylabel('Дoля объясненной дисперсии')\n",
    "plt.xlabel('Главные компоненты')\n",
    "plt.legend(loc= 'best')\n",
    "plt.show() "
   ]
  },
  {
   "cell_type": "markdown",
   "id": "893d04f0",
   "metadata": {},
   "source": [
    "# "
   ]
  },
  {
   "cell_type": "code",
   "execution_count": 27,
   "id": "2755c21e",
   "metadata": {},
   "outputs": [],
   "source": [
    "eigen_pairs = [ (np.abs(eigen_vals[i]),eigen_vecs[: , i ] )\n",
    "for i in range(len(eigen_vals))]\n",
    "eigen_pairs.sort(reverse=True) "
   ]
  },
  {
   "cell_type": "code",
   "execution_count": 31,
   "id": "522984e6",
   "metadata": {},
   "outputs": [
    {
     "data": {
      "text/plain": [
       "[(4.892308303273747,\n",
       "  array([ 0.14669811, -0.24224554, -0.02993442, -0.25519002,  0.12079772,\n",
       "          0.38934455,  0.42326486, -0.30634956,  0.30572219, -0.09869191,\n",
       "          0.30032535,  0.36821154,  0.29259713])),\n",
       " (2.4663503157592297,\n",
       "  array([ 0.50417079,  0.24216889,  0.28698484, -0.06468718,  0.22995385,\n",
       "          0.09363991,  0.01088622,  0.01870216,  0.03040352,  0.54527081,\n",
       "         -0.27924322, -0.174365  ,  0.36315461])),\n",
       " (1.4280997275048455,\n",
       "  array([-0.11723515,  0.14994658,  0.65639439,  0.58428234,  0.08226275,\n",
       "          0.18080442,  0.14295933,  0.17223475,  0.1583621 , -0.14242171,\n",
       "          0.09323872,  0.19607741, -0.09731711])),\n",
       " (1.0123346209044966,\n",
       "  array([ 0.20625461,  0.1304893 ,  0.01515363, -0.09042209, -0.83912835,\n",
       "          0.19317948,  0.14045955,  0.33733262, -0.1147529 ,  0.07878571,\n",
       "          0.02417403,  0.18402864,  0.05676778])),\n",
       " (0.8490645933450254,\n",
       "  array([-0.18781595,  0.56863978, -0.29920943, -0.04124995, -0.02719713,\n",
       "          0.14064543,  0.09268665, -0.08584168,  0.56510524,  0.01323461,\n",
       "         -0.37261081,  0.08937967, -0.21752948])),\n",
       " (0.6018151434229898,\n",
       "  array([-0.14885132, -0.26905276, -0.09333861, -0.10134239,  0.11256735,\n",
       "          0.01222488, -0.05503452,  0.69534088,  0.49835441,  0.15945216,\n",
       "          0.21651535, -0.23517236,  0.10562138])),\n",
       " (0.522515462063996,\n",
       "  array([-0.17926366, -0.59263673,  0.06073346,  0.25032387, -0.28524056,\n",
       "          0.05314553,  0.07989941, -0.29737172,  0.20251913,  0.39736411,\n",
       "         -0.38465475, -0.08629033, -0.13029829])),\n",
       " (0.330514291730941,\n",
       "  array([-0.40305492, -0.10183371,  0.35184142, -0.50045728,  0.08373917,\n",
       "          0.13511146,  0.00336017,  0.19012076, -0.17602994, -0.21493067,\n",
       "         -0.51725944,  0.13645604,  0.16775843])),\n",
       " (0.29595018365934717,\n",
       "  array([-0.41719758,  0.21710149,  0.12854985,  0.04733441, -0.27891878,\n",
       "         -0.28098565, -0.0391443 , -0.27862219,  0.14853946, -0.00410241,\n",
       "          0.19781412, -0.23813815,  0.63735021])),\n",
       " (0.2399553047794911,\n",
       "  array([ 4.13320786e-04, -8.78560762e-02, -4.52518598e-01,  4.86169765e-01,\n",
       "          1.14764951e-01,  9.45645138e-02, -1.00444099e-01,  2.00128778e-01,\n",
       "         -1.39942067e-01, -1.15349466e-01, -3.02254353e-01,  3.18414303e-01,\n",
       "          5.03247839e-01])),\n",
       " (0.21432211869872358,\n",
       "  array([ 0.40356719, -0.152475  ,  0.16837606, -0.06709029, -0.10239686,\n",
       "         -0.61860015, -0.13968028,  0.00163324,  0.38856849, -0.3083459 ,\n",
       "         -0.20045639,  0.28410033,  0.03755468])),\n",
       " (0.16831253504096227,\n",
       "  array([ 0.27566086, -0.0813845 , -0.01297513,  0.0989088 , -0.09592977,\n",
       "          0.28389764,  0.11672921, -0.03965663,  0.08606027, -0.57165189,\n",
       "         -0.19884453, -0.65086971,  0.07123771])),\n",
       " (0.08414845672679439,\n",
       "  array([-0.05546872,  0.03327316, -0.10061857,  0.05616586,  0.09584239,\n",
       "         -0.42126512,  0.8472247 ,  0.1662568 , -0.16619747,  0.03961736,\n",
       "         -0.10538369, -0.09950556, -0.01606618]))]"
      ]
     },
     "execution_count": 31,
     "metadata": {},
     "output_type": "execute_result"
    }
   ],
   "source": [
    "eigen_pairs"
   ]
  },
  {
   "cell_type": "code",
   "execution_count": 30,
   "id": "16e154eb",
   "metadata": {},
   "outputs": [
    {
     "name": "stdout",
     "output_type": "stream",
     "text": [
      " Матрица W: \n",
      " [[ 0.14669811  0.50417079]\n",
      " [-0.24224554  0.24216889]\n",
      " [-0.02993442  0.28698484]\n",
      " [-0.25519002 -0.06468718]\n",
      " [ 0.12079772  0.22995385]\n",
      " [ 0.38934455  0.09363991]\n",
      " [ 0.42326486  0.01088622]\n",
      " [-0.30634956  0.01870216]\n",
      " [ 0.30572219  0.03040352]\n",
      " [-0.09869191  0.54527081]\n",
      " [ 0.30032535 -0.27924322]\n",
      " [ 0.36821154 -0.174365  ]\n",
      " [ 0.29259713  0.36315461]]\n"
     ]
    }
   ],
   "source": [
    "w = np.hstack ( (eigen_pairs[0][1][ :, np.newaxis] ,\n",
    "eigen_pairs [1][1][ : , np.newaxis]))\n",
    "print(' Матрица W: \\n' , w)"
   ]
  },
  {
   "cell_type": "code",
   "execution_count": 32,
   "id": "a74b47c7",
   "metadata": {},
   "outputs": [
    {
     "data": {
      "text/plain": [
       "array([2.59891628, 0.00484089])"
      ]
     },
     "execution_count": 32,
     "metadata": {},
     "output_type": "execute_result"
    }
   ],
   "source": [
    "X_train_std[0].dot(w)\n"
   ]
  },
  {
   "cell_type": "code",
   "execution_count": 33,
   "id": "f27c0a31",
   "metadata": {},
   "outputs": [],
   "source": [
    "X_train_pca = X_train_std.dot(w) "
   ]
  },
  {
   "cell_type": "code",
   "execution_count": 34,
   "id": "54decbd4",
   "metadata": {},
   "outputs": [
    {
     "data": {
      "text/plain": [
       "array([[ 2.59891628,  0.00484089],\n",
       "       [ 0.15819134, -2.26659577],\n",
       "       [-2.6372337 ,  2.66488569],\n",
       "       [-2.52848449,  0.51846618],\n",
       "       [ 1.70922581, -0.91719459],\n",
       "       [-2.83057003,  0.41936129],\n",
       "       [-2.82251879,  1.99763147],\n",
       "       [ 1.36618015,  0.04639099],\n",
       "       [-2.46584868, -0.07932269],\n",
       "       [-2.28554906, -0.40096658],\n",
       "       [ 1.14246632, -2.39587633],\n",
       "       [-2.28497881, -1.09274988],\n",
       "       [-2.52924945,  0.6477328 ],\n",
       "       [ 0.169245  , -1.1264982 ],\n",
       "       [ 2.53088166,  1.05798498],\n",
       "       [-0.71596964, -2.80365836],\n",
       "       [ 2.46922033, -0.15871191],\n",
       "       [-0.58044574, -0.69290749],\n",
       "       [ 0.54583852,  0.41042188],\n",
       "       [ 3.5604963 ,  1.42561284],\n",
       "       [ 1.58679826, -1.51260121],\n",
       "       [ 2.54872139, -0.05280515],\n",
       "       [-3.59338727,  0.88321901],\n",
       "       [-1.60406659,  2.40373662],\n",
       "       [ 1.48668426, -1.40863724],\n",
       "       [ 0.00830468, -2.04898307],\n",
       "       [-0.15646658, -2.80278355],\n",
       "       [-2.39863877,  2.47524175],\n",
       "       [-3.13549157, -0.29421321],\n",
       "       [ 3.30221023,  0.40939296],\n",
       "       [-3.53069904,  1.79971521],\n",
       "       [-0.45566459, -2.61242833],\n",
       "       [-0.58840115, -1.98301934],\n",
       "       [-1.16637216, -0.83784744],\n",
       "       [ 1.03763587, -1.37755233],\n",
       "       [ 1.95890184, -1.62578024],\n",
       "       [ 2.76990407,  1.86073384],\n",
       "       [ 2.06150478,  1.32280528],\n",
       "       [ 0.84107017, -2.00894711],\n",
       "       [ 3.52522122,  1.41880443],\n",
       "       [-3.82504747,  0.11741931],\n",
       "       [ 1.70427554, -0.46267479],\n",
       "       [-3.44482795,  0.89793105],\n",
       "       [ 3.14119715,  0.80251074],\n",
       "       [ 2.34148171,  1.69991384],\n",
       "       [ 1.25162098, -0.91305357],\n",
       "       [ 3.57847538,  1.78146353],\n",
       "       [ 0.93052986, -2.26747372],\n",
       "       [ 0.50457042, -1.9619121 ],\n",
       "       [ 3.82251943,  2.88150786],\n",
       "       [-2.3761711 ,  2.15480504],\n",
       "       [-1.55524357, -1.38425679],\n",
       "       [ 2.51130377,  1.33358811],\n",
       "       [-0.72998664, -0.21814915],\n",
       "       [-0.77183165, -2.39360847],\n",
       "       [ 0.84583296, -1.51455514],\n",
       "       [-1.26515775,  0.04977931],\n",
       "       [ 2.20903303,  0.85715074],\n",
       "       [-3.89082853,  0.54194575],\n",
       "       [-1.8063292 ,  1.31606219],\n",
       "       [ 4.37183355,  2.33594051],\n",
       "       [ 3.31126031,  1.43233851],\n",
       "       [-1.53830238, -1.9287237 ],\n",
       "       [-2.72256164,  2.15319971],\n",
       "       [ 2.81726412,  1.3810016 ],\n",
       "       [ 1.85165682,  0.74908527],\n",
       "       [-0.45023913, -2.16233055],\n",
       "       [-0.10551849, -1.20083745],\n",
       "       [ 1.96348867,  0.21556727],\n",
       "       [ 2.23499535,  1.29680173],\n",
       "       [ 0.81061036,  0.32968368],\n",
       "       [-3.28947263,  2.24576835],\n",
       "       [ 0.92542109, -0.76230572],\n",
       "       [ 2.3186051 , -0.12948205],\n",
       "       [ 0.79856144, -1.42131736],\n",
       "       [-2.27737367,  0.55018386],\n",
       "       [ 3.14731552,  1.31152545],\n",
       "       [-1.73268901, -1.77855936],\n",
       "       [-2.85178367,  0.15732478],\n",
       "       [-2.682777  ,  0.33277815],\n",
       "       [ 1.93435789,  1.6156844 ],\n",
       "       [ 1.61938048, -0.63200211],\n",
       "       [-2.04371299,  0.31389153],\n",
       "       [ 2.25520575,  1.89312658],\n",
       "       [-2.32821566,  0.18612349],\n",
       "       [-0.41435801, -1.98875351],\n",
       "       [ 1.44705447,  0.66672748],\n",
       "       [ 2.19851825,  0.68997732],\n",
       "       [-0.42257991, -1.94397583],\n",
       "       [ 2.76213322,  1.54543423],\n",
       "       [-2.84540302,  1.94250398],\n",
       "       [-1.5915982 , -1.41522865],\n",
       "       [-3.35600644,  1.14127988],\n",
       "       [ 1.67829924,  0.10816612],\n",
       "       [-2.94150833,  0.3885073 ],\n",
       "       [-2.30405629,  2.15027517],\n",
       "       [-3.49291623,  1.29239829],\n",
       "       [ 2.33527547,  0.3435751 ],\n",
       "       [ 1.46219731, -2.05255915],\n",
       "       [-0.43118871, -2.4048574 ],\n",
       "       [ 0.42256584, -1.05544618],\n",
       "       [ 0.52658784, -3.87214144],\n",
       "       [-2.72797263,  1.58306403],\n",
       "       [-3.17868679,  2.71193573],\n",
       "       [-0.62158919, -1.0446325 ],\n",
       "       [-1.40436141, -1.47634167],\n",
       "       [ 0.91169846,  0.65475647],\n",
       "       [ 1.12423581, -1.34653907],\n",
       "       [-2.84547545,  1.32732299],\n",
       "       [-2.36335963,  2.43164111],\n",
       "       [ 2.54578547,  1.85201533],\n",
       "       [ 3.21543609,  1.84137496],\n",
       "       [-2.74703277,  0.19539224],\n",
       "       [-1.05186423, -1.83455849],\n",
       "       [-1.50826783, -0.99164925],\n",
       "       [-0.53471293, -2.50577398],\n",
       "       [ 1.40057023,  0.66105221],\n",
       "       [ 1.10794215,  0.24580628],\n",
       "       [ 2.83487283,  0.95812357],\n",
       "       [-0.52771371, -2.59472825],\n",
       "       [ 0.31128129, -2.28677331],\n",
       "       [-0.06526682, -2.04360861],\n",
       "       [ 2.91835495,  0.82035658],\n",
       "       [-2.40719925,  2.23612256]])"
      ]
     },
     "execution_count": 34,
     "metadata": {},
     "output_type": "execute_result"
    }
   ],
   "source": [
    "X_train_pca"
   ]
  },
  {
   "cell_type": "code",
   "execution_count": 37,
   "id": "2db4910b",
   "metadata": {},
   "outputs": [
    {
     "data": {
      "image/png": "[encoded data removed]",
      "text/plain": [
       "<Figure size 640x480 with 1 Axes>"
      ]
     },
     "metadata": {},
     "output_type": "display_data"
    }
   ],
   "source": [
    "colors = ['r', 'b', 'g']\n",
    "markers = ['s', 'x', 'o']\n",
    "for l, c, m in zip(np.unique(y_train), colors, markers):\n",
    "    plt.scatter(X_train_pca[y_train==l, 0],\n",
    "        X_train_pca[y_train==l, 1],\n",
    "        c=c, label=l, marker=m)\n",
    "plt.xlabel('PC 1')\n",
    "plt.ylabel('PC 2')\n",
    "plt.legend(loc='lower left')\n",
    "plt.show()\n"
   ]
  },
  {
   "cell_type": "markdown",
   "id": "056d06f2",
   "metadata": {},
   "source": [
    "# Предустановленный метод PCA scikit-learn"
   ]
  },
  {
   "cell_type": "code",
   "execution_count": 38,
   "id": "504bff34",
   "metadata": {},
   "outputs": [],
   "source": [
    "from matplotlib.colors import ListedColormap\n",
    "def plot_decision_regions(X, y, classifier, resolution=0.02):\n",
    "# setup marker generator and color map\n",
    "    markers = ('s', 'x', 'o', '^', 'v')\n",
    "    colors = ('red', 'blue', 'lightgreen', 'gray', 'cyan')\n",
    "    cmap = ListedColormap(colors[:len(np.unique(y))])\n",
    "    # plot the decision surface\n",
    "    x1_min, x1_max = X[:, 0].min() - 1, X[:, 0].max() + 1\n",
    "    x2_min, x2_max = X[:, 1].min() - 1, X[:, 1].max() + 1\n",
    "    xx1, xx2 = np.meshgrid(np.arange(x1_min, x1_max, resolution),\n",
    "    np.arange(x2_min, x2_max, resolution))\n",
    "    Z = classifier.predict(np.array([xx1.ravel(), xx2.ravel()]).T)\n",
    "    Z = Z.reshape(xx1.shape)\n",
    "    plt.contourf(xx1, xx2, Z, alpha=0.4, cmap=cmap)\n",
    "    plt.xlim(xx1.min(), xx1.max())\n",
    "    plt.ylim(xx2.min(), xx2.max())\n",
    "# plot class samples\n",
    "    for idx, cl in enumerate(np.unique(y)):\n",
    "        plt.scatter(x=X[y == cl, 0], y=X[y == cl, 1],\n",
    "            alpha=0.8, c=cmap(idx),\n",
    "        marker=markers[idx], label=cl)"
   ]
  },
  {
   "cell_type": "code",
   "execution_count": 39,
   "id": "14379d1c",
   "metadata": {},
   "outputs": [
    {
     "name": "stderr",
     "output_type": "stream",
     "text": [
      "*c* argument looks like a single numeric RGB or RGBA sequence, which should be avoided as value-mapping will have precedence in case its length matches with *x* & *y*.  Please use the *color* keyword-argument or provide a 2D array with a single row if you intend to specify the same RGB or RGBA value for all points.\n",
      "*c* argument looks like a single numeric RGB or RGBA sequence, which should be avoided as value-mapping will have precedence in case its length matches with *x* & *y*.  Please use the *color* keyword-argument or provide a 2D array with a single row if you intend to specify the same RGB or RGBA value for all points.\n",
      "*c* argument looks like a single numeric RGB or RGBA sequence, which should be avoided as value-mapping will have precedence in case its length matches with *x* & *y*.  Please use the *color* keyword-argument or provide a 2D array with a single row if you intend to specify the same RGB or RGBA value for all points.\n"
     ]
    },
    {
     "data": {
      "image/png": "[encoded data removed]",
      "text/plain": [
       "<Figure size 640x480 with 1 Axes>"
      ]
     },
     "metadata": {},
     "output_type": "display_data"
    }
   ],
   "source": [
    ">>> from sklearn.linear_model import LogisticRegression\n",
    ">>> from sklearn.decomposition import PCA\n",
    ">>> pca = PCA(n_components=2)\n",
    ">>> lr = LogisticRegression()\n",
    ">>> X_train_pca = pca.fit_transform(X_train_std)\n",
    ">>> X_test_pca = pca.transform(X_test_std)\n",
    ">>> lr.fit(X_train_pca, y_train)\n",
    ">>> plot_decision_regions(X_train_pca, y_train, classifier=lr)\n",
    ">>> plt.xlabel('PC1')\n",
    ">>> plt.ylabel('PC2')\n",
    ">>> plt.legend(loc='lower left')\n",
    ">>> plt.show()"
   ]
  },
  {
   "cell_type": "code",
   "execution_count": 40,
   "id": "b36b6d42",
   "metadata": {},
   "outputs": [
    {
     "data": {
      "text/plain": [
       "array([0.37329648, 0.18818926, 0.10896791, 0.07724389, 0.06478595,\n",
       "       0.04592014, 0.03986936, 0.02521914, 0.02258181, 0.01830924,\n",
       "       0.01635336, 0.01284271, 0.00642076])"
      ]
     },
     "execution_count": 40,
     "metadata": {},
     "output_type": "execute_result"
    }
   ],
   "source": [
    ">>> pca = PCA(n_components=None)\n",
    ">>> X_train_pca = pca.fit_transform(X_train_std)\n",
    ">>> pca.explained_variance_ratio_"
   ]
  },
  {
   "cell_type": "markdown",
   "id": "462da0ad",
   "metadata": {},
   "source": [
    "file:///C:/Users/79618/Downloads/%D0%A1%D0%B5%D0%B1%D0%B0%D1%81%D1%82%D1%8C%D1%8F%D0%BD%20%D0%A0%D0%B0%D1%88%D0%BA%D0%B0%20-%20Python%20%D0%B8%20%D0%BC%D0%B0%D1%88%D0%B8%D0%BD%D0%BD%D0%BE%D0%B5%20%D0%BE%D0%B1%D1%83%D1%87%D0%B5%D0%BD%D0%B8%D0%B5-%D0%94%D0%9C%D0%9A%20%D0%9F%D1%80%D0%B5%D1%81%D1%81.pdf\n",
    "\n",
    "https://cloudflare-ipfs.com/ipfs/bafykbzacecns3nkrp7fzcybnci4de5bkvrkvsev264qe2ram7hhx7rwpvkis4?filename=Sebastian%20Raschka%20-%20Python%20Machine%20Learning_%20Unlock%20deeper%20insights%20into%20Machine%20Leaning%20with%20this%20vital%20guide%20to%20cutting-edge%20predictive%20analytics-Packt%20Publishing%20%282015%29.pdf\n",
    "\n",
    "https://scikit-learn.org/stable/modules/decomposition.html#decompositions\n",
    "\n"
   ]
  }
 ],
 "metadata": {
  "kernelspec": {
   "display_name": "Python 3 (ipykernel)",
   "language": "python",
   "name": "python3"
  },
  "language_info": {
   "codemirror_mode": {
    "name": "ipython",
    "version": 3
   },
   "file_extension": ".py",
   "mimetype": "text/x-python",
   "name": "python",
   "nbconvert_exporter": "python",
   "pygments_lexer": "ipython3",
   "version": "3.10.8"
  },
  "toc": {
   "base_numbering": 1,
   "nav_menu": {},
   "number_sections": true,
   "sideBar": true,
   "skip_h1_title": false,
   "title_cell": "Table of Contents",
   "title_sidebar": "Contents",
   "toc_cell": false,
   "toc_position": {},
   "toc_section_display": true,
   "toc_window_display": false
  }
 },
 "nbformat": 4,
 "nbformat_minor": 5
}
