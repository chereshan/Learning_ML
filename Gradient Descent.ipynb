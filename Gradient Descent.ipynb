{
 "cells": [
  {
   "cell_type": "markdown",
   "id": "a14437a3",
   "metadata": {},
   "source": [
    "# Gradient Descent"
   ]
  },
  {
   "cell_type": "markdown",
   "id": "d123f3be",
   "metadata": {},
   "source": [
    "**Источники:**\n",
    "1. [wiki: GD](https://en.wikipedia.org/wiki/Gradient_descent)\n",
    "2. [wiki: SGD](https://en.wikipedia.org/wiki/Stochastic_gradient_descent)\n",
    "3. [scikit-learn: 1.5. Stochastic Gradient Descent)](https://scikit-learn.org/stable/modules/sgd.html)\n",
    "\n",
    "https://academy.yandex.ru/handbook/ml/article/proksimalnye-metody\n",
    "\n",
    "https://academy.yandex.ru/handbook/ml/article/metody-vtorogo-poryadka\n",
    "\n",
    "https://academy.yandex.ru/handbook/ml/article/linear-models"
   ]
  },
  {
   "cell_type": "code",
   "execution_count": null,
   "id": "e967971f",
   "metadata": {},
   "outputs": [],
   "source": []
  }
 ],
 "metadata": {
  "kernelspec": {
   "display_name": "Python 3 (ipykernel)",
   "language": "python",
   "name": "python3"
  },
  "language_info": {
   "codemirror_mode": {
    "name": "ipython",
    "version": 3
   },
   "file_extension": ".py",
   "mimetype": "text/x-python",
   "name": "python",
   "nbconvert_exporter": "python",
   "pygments_lexer": "ipython3",
   "version": "3.10.8"
  },
  "toc": {
   "base_numbering": 1,
   "nav_menu": {},
   "number_sections": true,
   "sideBar": true,
   "skip_h1_title": false,
   "title_cell": "Table of Contents",
   "title_sidebar": "Contents",
   "toc_cell": false,
   "toc_position": {},
   "toc_section_display": true,
   "toc_window_display": false
  }
 },
 "nbformat": 4,
 "nbformat_minor": 5
}
