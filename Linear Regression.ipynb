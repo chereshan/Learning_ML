{
 "cells": [
  {
   "cell_type": "code",
   "execution_count": null,
   "id": "e8b222eb",
   "metadata": {},
   "outputs": [],
   "source": [
    "from sklearn.linear_model import LinearRegression\n",
    "import numpy as np"
   ]
  },
  {
   "cell_type": "code",
   "execution_count": null,
   "id": "fa239dbd",
   "metadata": {},
   "outputs": [],
   "source": [
    "np.array([])"
   ]
  },
  {
   "cell_type": "code",
   "execution_count": 6,
   "id": "ada42e16",
   "metadata": {},
   "outputs": [
    {
     "data": {
      "text/plain": [
       "array([16.])"
      ]
     },
     "execution_count": 6,
     "metadata": {},
     "output_type": "execute_result"
    }
   ],
   "source": [
    ">>> import numpy as np\n",
    ">>> from sklearn.linear_model import LinearRegression\n",
    ">>> X = np.array([[1, 1], [1, 2], [2, 2], [2, 3]])\n",
    ">>> # y = 1 * x_0 + 2 * x_1 + 3\n",
    ">>> y = np.dot(X, np.array([1, 2])) + 3\n",
    ">>> reg = LinearRegression().fit(X, y)\n",
    ">>> reg.score(X, y)\n",
    "1.0\n",
    ">>> reg.coef_\n",
    "\n",
    ">>> reg.intercept_\n",
    "\n",
    ">>> reg.predict(np.array([[3, 5]]))\n"
   ]
  },
  {
   "cell_type": "code",
   "execution_count": 21,
   "id": "8f43327e",
   "metadata": {},
   "outputs": [
    {
     "data": {
      "text/plain": [
       "-1.7333333333333336"
      ]
     },
     "execution_count": 21,
     "metadata": {},
     "output_type": "execute_result"
    }
   ],
   "source": [
    "reg.intercept_"
   ]
  },
  {
   "cell_type": "code",
   "execution_count": 23,
   "id": "9966b949",
   "metadata": {},
   "outputs": [
    {
     "data": {
      "text/plain": [
       "array([-1.73333333, -1.64489796, -1.55646259, -1.46802721, -1.37959184,\n",
       "       -1.29115646, -1.20272109, -1.11428571, -1.02585034, -0.93741497,\n",
       "       -0.84897959, -0.76054422, -0.67210884, -0.58367347, -0.4952381 ,\n",
       "       -0.40680272, -0.31836735, -0.22993197, -0.1414966 , -0.05306122,\n",
       "        0.03537415,  0.12380952,  0.2122449 ,  0.30068027,  0.38911565,\n",
       "        0.47755102,  0.56598639,  0.65442177,  0.74285714,  0.83129252,\n",
       "        0.91972789,  1.00816327,  1.09659864,  1.18503401,  1.27346939,\n",
       "        1.36190476,  1.45034014,  1.53877551,  1.62721088,  1.71564626,\n",
       "        1.80408163,  1.89251701,  1.98095238,  2.06938776,  2.15782313,\n",
       "        2.2462585 ,  2.33469388,  2.42312925,  2.51156463,  2.6       ])"
      ]
     },
     "execution_count": 23,
     "metadata": {},
     "output_type": "execute_result"
    }
   ],
   "source": [
    "reg.coef_*np.linspace(0,50)+reg.intercept_\n"
   ]
  },
  {
   "cell_type": "code",
   "execution_count": 56,
   "id": "8450f97f",
   "metadata": {},
   "outputs": [
    {
     "data": {
      "text/plain": [
       "<matplotlib.collections.LineCollection at 0x2018e53cfa0>"
      ]
     },
     "execution_count": 56,
     "metadata": {},
     "output_type": "execute_result"
    },
    {
     "data": {
      "image/png": "[encoded data removed]",
      "text/plain": [
       "<Figure size 640x480 with 1 Axes>"
      ]
     },
     "metadata": {},
     "output_type": "display_data"
    }
   ],
   "source": [
    "import matplotlib.pyplot as plt \n",
    "\n",
    "X = np.array([[21],[22],[23],[40],[10],[14],[15],[15],[30],[3],[20]])\n",
    "y=np.array([1,1,1,1,-1,-1,-1,-1,1,-1,-1])\n",
    "\n",
    "reg = LinearRegression().fit(X, y)\n",
    "\n",
    "plt.scatter(X,y)\n",
    "plt.plot(np.linspace(0,50),reg.coef_*np.linspace(0,50)+reg.intercept_,c='r')\n",
    "plt.hlines(0,0,50,ls='--')\n",
    "plt.vlines(21,-1.5,2,ls='--')"
   ]
  },
  {
   "cell_type": "code",
   "execution_count": 35,
   "id": "1d790343",
   "metadata": {},
   "outputs": [
    {
     "data": {
      "text/plain": [
       "array([ 0.13646987,  0.21674627,  0.29702266,  1.66172137, -0.74657047,\n",
       "       -0.42546489, -0.3451885 , -0.3451885 ,  0.85895742, -1.30850523])"
      ]
     },
     "execution_count": 35,
     "metadata": {},
     "output_type": "execute_result"
    }
   ],
   "source": [
    "reg.predict(X)"
   ]
  },
  {
   "cell_type": "code",
   "execution_count": 40,
   "id": "21dbcb3b",
   "metadata": {},
   "outputs": [
    {
     "data": {
      "text/plain": [
       "array([ True,  True,  True,  True,  True,  True,  True,  True,  True,\n",
       "        True])"
      ]
     },
     "execution_count": 40,
     "metadata": {},
     "output_type": "execute_result"
    }
   ],
   "source": [
    "(y>0)==(reg.predict(X)>0)"
   ]
  },
  {
   "cell_type": "code",
   "execution_count": 16,
   "id": "59c726cf",
   "metadata": {},
   "outputs": [
    {
     "data": {
      "text/plain": [
       "array([-0.08666667])"
      ]
     },
     "execution_count": 16,
     "metadata": {},
     "output_type": "execute_result"
    }
   ],
   "source": [
    "reg.predict(np.array([[19]]))"
   ]
  },
  {
   "cell_type": "code",
   "execution_count": null,
   "id": "0467bf98",
   "metadata": {},
   "outputs": [],
   "source": []
  }
 ],
 "metadata": {
  "kernelspec": {
   "display_name": "Python 3 (ipykernel)",
   "language": "python",
   "name": "python3"
  },
  "language_info": {
   "codemirror_mode": {
    "name": "ipython",
    "version": 3
   },
   "file_extension": ".py",
   "mimetype": "text/x-python",
   "name": "python",
   "nbconvert_exporter": "python",
   "pygments_lexer": "ipython3",
   "version": "3.10.8"
  },
  "toc": {
   "base_numbering": 1,
   "nav_menu": {},
   "number_sections": true,
   "sideBar": true,
   "skip_h1_title": false,
   "title_cell": "Table of Contents",
   "title_sidebar": "Contents",
   "toc_cell": false,
   "toc_position": {},
   "toc_section_display": true,
   "toc_window_display": false
  }
 },
 "nbformat": 4,
 "nbformat_minor": 5
}
